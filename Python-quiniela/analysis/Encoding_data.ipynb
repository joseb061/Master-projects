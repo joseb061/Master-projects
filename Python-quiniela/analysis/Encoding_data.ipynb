{
 "cells": [
  {
   "cell_type": "markdown",
   "id": "31736121",
   "metadata": {},
   "source": [
    "## Encoding Notebook\n",
    "\n",
    "We have the following dataset: \n",
    "1. Seasons, division, matchday that will order the matchs (in this order).\n",
    "2. A team column, for the team that plays at home.\n",
    "3. A against column.\n",
    "4. Columns W,L and T, that indicate the cummulative results of the team in that matchday.\n",
    "5. A result column for that match.\n",
    "6. A GD (gol difference) column for that match.\n",
    "7. A cummulative gol difference column.\n",
    "8. A raking column for the ranking position at this matchday.\n",
    "9. A column with the last 10 (if have it) results.\n",
    "10. A column with the last 3 final rankings of last seasons.\n",
    "\n",
    "Now we have to encode this variables to use them later in the selected models."
   ]
  },
  {
   "cell_type": "code",
   "execution_count": 5,
   "id": "9c00d95a",
   "metadata": {},
   "outputs": [
    {
     "ename": "ImportError",
     "evalue": "Missing optional dependency 'xlrd'. Install xlrd >= 1.0.0 for Excel support Use pip or conda to install xlrd.",
     "output_type": "error",
     "traceback": [
      "\u001b[0;31m---------------------------------------------------------------------------\u001b[0m",
      "\u001b[0;31mImportError\u001b[0m                               Traceback (most recent call last)",
      "\u001b[0;32m<ipython-input-5-e4d1208a6ad9>\u001b[0m in \u001b[0;36m<module>\u001b[0;34m\u001b[0m\n\u001b[1;32m      4\u001b[0m \u001b[0;32mimport\u001b[0m \u001b[0mnumpy\u001b[0m \u001b[0;32mas\u001b[0m \u001b[0mnp\u001b[0m\u001b[0;34m\u001b[0m\u001b[0;34m\u001b[0m\u001b[0m\n\u001b[1;32m      5\u001b[0m \u001b[0;34m\u001b[0m\u001b[0m\n\u001b[0;32m----> 6\u001b[0;31m \u001b[0mEncoded_data\u001b[0m \u001b[0;34m=\u001b[0m \u001b[0mpd\u001b[0m\u001b[0;34m.\u001b[0m\u001b[0mread_excel\u001b[0m\u001b[0;34m(\u001b[0m\u001b[0;34mr'../reports/CleanedData.xlsx'\u001b[0m\u001b[0;34m,\u001b[0m \u001b[0mindex_col\u001b[0m\u001b[0;34m=\u001b[0m\u001b[0;36m0\u001b[0m\u001b[0;34m)\u001b[0m\u001b[0;34m\u001b[0m\u001b[0;34m\u001b[0m\u001b[0m\n\u001b[0m",
      "\u001b[0;32m~/Master/Master-projects/Python-quiniela/.venv/lib/python3.6/site-packages/pandas/util/_decorators.py\u001b[0m in \u001b[0;36mwrapper\u001b[0;34m(*args, **kwargs)\u001b[0m\n\u001b[1;32m    294\u001b[0m                 )\n\u001b[1;32m    295\u001b[0m                 \u001b[0mwarnings\u001b[0m\u001b[0;34m.\u001b[0m\u001b[0mwarn\u001b[0m\u001b[0;34m(\u001b[0m\u001b[0mmsg\u001b[0m\u001b[0;34m,\u001b[0m \u001b[0mFutureWarning\u001b[0m\u001b[0;34m,\u001b[0m \u001b[0mstacklevel\u001b[0m\u001b[0;34m=\u001b[0m\u001b[0mstacklevel\u001b[0m\u001b[0;34m)\u001b[0m\u001b[0;34m\u001b[0m\u001b[0;34m\u001b[0m\u001b[0m\n\u001b[0;32m--> 296\u001b[0;31m             \u001b[0;32mreturn\u001b[0m \u001b[0mfunc\u001b[0m\u001b[0;34m(\u001b[0m\u001b[0;34m*\u001b[0m\u001b[0margs\u001b[0m\u001b[0;34m,\u001b[0m \u001b[0;34m**\u001b[0m\u001b[0mkwargs\u001b[0m\u001b[0;34m)\u001b[0m\u001b[0;34m\u001b[0m\u001b[0;34m\u001b[0m\u001b[0m\n\u001b[0m\u001b[1;32m    297\u001b[0m \u001b[0;34m\u001b[0m\u001b[0m\n\u001b[1;32m    298\u001b[0m         \u001b[0;32mreturn\u001b[0m \u001b[0mwrapper\u001b[0m\u001b[0;34m\u001b[0m\u001b[0;34m\u001b[0m\u001b[0m\n",
      "\u001b[0;32m~/Master/Master-projects/Python-quiniela/.venv/lib/python3.6/site-packages/pandas/io/excel/_base.py\u001b[0m in \u001b[0;36mread_excel\u001b[0;34m(io, sheet_name, header, names, index_col, usecols, squeeze, dtype, engine, converters, true_values, false_values, skiprows, nrows, na_values, keep_default_na, na_filter, verbose, parse_dates, date_parser, thousands, comment, skipfooter, convert_float, mangle_dupe_cols)\u001b[0m\n\u001b[1;32m    302\u001b[0m \u001b[0;34m\u001b[0m\u001b[0m\n\u001b[1;32m    303\u001b[0m     \u001b[0;32mif\u001b[0m \u001b[0;32mnot\u001b[0m \u001b[0misinstance\u001b[0m\u001b[0;34m(\u001b[0m\u001b[0mio\u001b[0m\u001b[0;34m,\u001b[0m \u001b[0mExcelFile\u001b[0m\u001b[0;34m)\u001b[0m\u001b[0;34m:\u001b[0m\u001b[0;34m\u001b[0m\u001b[0;34m\u001b[0m\u001b[0m\n\u001b[0;32m--> 304\u001b[0;31m         \u001b[0mio\u001b[0m \u001b[0;34m=\u001b[0m \u001b[0mExcelFile\u001b[0m\u001b[0;34m(\u001b[0m\u001b[0mio\u001b[0m\u001b[0;34m,\u001b[0m \u001b[0mengine\u001b[0m\u001b[0;34m=\u001b[0m\u001b[0mengine\u001b[0m\u001b[0;34m)\u001b[0m\u001b[0;34m\u001b[0m\u001b[0;34m\u001b[0m\u001b[0m\n\u001b[0m\u001b[1;32m    305\u001b[0m     \u001b[0;32melif\u001b[0m \u001b[0mengine\u001b[0m \u001b[0;32mand\u001b[0m \u001b[0mengine\u001b[0m \u001b[0;34m!=\u001b[0m \u001b[0mio\u001b[0m\u001b[0;34m.\u001b[0m\u001b[0mengine\u001b[0m\u001b[0;34m:\u001b[0m\u001b[0;34m\u001b[0m\u001b[0;34m\u001b[0m\u001b[0m\n\u001b[1;32m    306\u001b[0m         raise ValueError(\n",
      "\u001b[0;32m~/Master/Master-projects/Python-quiniela/.venv/lib/python3.6/site-packages/pandas/io/excel/_base.py\u001b[0m in \u001b[0;36m__init__\u001b[0;34m(self, path_or_buffer, engine)\u001b[0m\n\u001b[1;32m    865\u001b[0m         \u001b[0mself\u001b[0m\u001b[0;34m.\u001b[0m\u001b[0m_io\u001b[0m \u001b[0;34m=\u001b[0m \u001b[0mstringify_path\u001b[0m\u001b[0;34m(\u001b[0m\u001b[0mpath_or_buffer\u001b[0m\u001b[0;34m)\u001b[0m\u001b[0;34m\u001b[0m\u001b[0;34m\u001b[0m\u001b[0m\n\u001b[1;32m    866\u001b[0m \u001b[0;34m\u001b[0m\u001b[0m\n\u001b[0;32m--> 867\u001b[0;31m         \u001b[0mself\u001b[0m\u001b[0;34m.\u001b[0m\u001b[0m_reader\u001b[0m \u001b[0;34m=\u001b[0m \u001b[0mself\u001b[0m\u001b[0;34m.\u001b[0m\u001b[0m_engines\u001b[0m\u001b[0;34m[\u001b[0m\u001b[0mengine\u001b[0m\u001b[0;34m]\u001b[0m\u001b[0;34m(\u001b[0m\u001b[0mself\u001b[0m\u001b[0;34m.\u001b[0m\u001b[0m_io\u001b[0m\u001b[0;34m)\u001b[0m\u001b[0;34m\u001b[0m\u001b[0;34m\u001b[0m\u001b[0m\n\u001b[0m\u001b[1;32m    868\u001b[0m \u001b[0;34m\u001b[0m\u001b[0m\n\u001b[1;32m    869\u001b[0m     \u001b[0;32mdef\u001b[0m \u001b[0m__fspath__\u001b[0m\u001b[0;34m(\u001b[0m\u001b[0mself\u001b[0m\u001b[0;34m)\u001b[0m\u001b[0;34m:\u001b[0m\u001b[0;34m\u001b[0m\u001b[0;34m\u001b[0m\u001b[0m\n",
      "\u001b[0;32m~/Master/Master-projects/Python-quiniela/.venv/lib/python3.6/site-packages/pandas/io/excel/_xlrd.py\u001b[0m in \u001b[0;36m__init__\u001b[0;34m(self, filepath_or_buffer)\u001b[0m\n\u001b[1;32m     19\u001b[0m         \"\"\"\n\u001b[1;32m     20\u001b[0m         \u001b[0merr_msg\u001b[0m \u001b[0;34m=\u001b[0m \u001b[0;34m\"Install xlrd >= 1.0.0 for Excel support\"\u001b[0m\u001b[0;34m\u001b[0m\u001b[0;34m\u001b[0m\u001b[0m\n\u001b[0;32m---> 21\u001b[0;31m         \u001b[0mimport_optional_dependency\u001b[0m\u001b[0;34m(\u001b[0m\u001b[0;34m\"xlrd\"\u001b[0m\u001b[0;34m,\u001b[0m \u001b[0mextra\u001b[0m\u001b[0;34m=\u001b[0m\u001b[0merr_msg\u001b[0m\u001b[0;34m)\u001b[0m\u001b[0;34m\u001b[0m\u001b[0;34m\u001b[0m\u001b[0m\n\u001b[0m\u001b[1;32m     22\u001b[0m         \u001b[0msuper\u001b[0m\u001b[0;34m(\u001b[0m\u001b[0;34m)\u001b[0m\u001b[0;34m.\u001b[0m\u001b[0m__init__\u001b[0m\u001b[0;34m(\u001b[0m\u001b[0mfilepath_or_buffer\u001b[0m\u001b[0;34m)\u001b[0m\u001b[0;34m\u001b[0m\u001b[0;34m\u001b[0m\u001b[0m\n\u001b[1;32m     23\u001b[0m \u001b[0;34m\u001b[0m\u001b[0m\n",
      "\u001b[0;32m~/Master/Master-projects/Python-quiniela/.venv/lib/python3.6/site-packages/pandas/compat/_optional.py\u001b[0m in \u001b[0;36mimport_optional_dependency\u001b[0;34m(name, extra, raise_on_missing, on_version)\u001b[0m\n\u001b[1;32m    108\u001b[0m     \u001b[0;32mexcept\u001b[0m \u001b[0mImportError\u001b[0m\u001b[0;34m:\u001b[0m\u001b[0;34m\u001b[0m\u001b[0;34m\u001b[0m\u001b[0m\n\u001b[1;32m    109\u001b[0m         \u001b[0;32mif\u001b[0m \u001b[0mraise_on_missing\u001b[0m\u001b[0;34m:\u001b[0m\u001b[0;34m\u001b[0m\u001b[0;34m\u001b[0m\u001b[0m\n\u001b[0;32m--> 110\u001b[0;31m             \u001b[0;32mraise\u001b[0m \u001b[0mImportError\u001b[0m\u001b[0;34m(\u001b[0m\u001b[0mmsg\u001b[0m\u001b[0;34m)\u001b[0m \u001b[0;32mfrom\u001b[0m \u001b[0;32mNone\u001b[0m\u001b[0;34m\u001b[0m\u001b[0;34m\u001b[0m\u001b[0m\n\u001b[0m\u001b[1;32m    111\u001b[0m         \u001b[0;32melse\u001b[0m\u001b[0;34m:\u001b[0m\u001b[0;34m\u001b[0m\u001b[0;34m\u001b[0m\u001b[0m\n\u001b[1;32m    112\u001b[0m             \u001b[0;32mreturn\u001b[0m \u001b[0;32mNone\u001b[0m\u001b[0;34m\u001b[0m\u001b[0;34m\u001b[0m\u001b[0m\n",
      "\u001b[0;31mImportError\u001b[0m: Missing optional dependency 'xlrd'. Install xlrd >= 1.0.0 for Excel support Use pip or conda to install xlrd."
     ]
    }
   ],
   "source": [
    "import sqlite3\n",
    "import pandas as pd\n",
    "import matplotlib.pyplot as plt\n",
    "import numpy as np\n",
    "\n",
    "Encoded_data = pd.read_excel(r'..\\reports\\CleanedData.xlsx', index_col=0)"
   ]
  },
  {
   "cell_type": "code",
   "execution_count": 4,
   "id": "95182a08",
   "metadata": {},
   "outputs": [],
   "source": [
    "def results_encoded(col):\n",
    "    sum_results = 0\n",
    "    i = 0\n",
    "    while(i < len(col)):\n",
    "        if(col[i] == 'L'): sum_results -= 1\n",
    "        elif (col[i] == 'W'): sum_results += 1\n",
    "        i += 1\n",
    "    return sum_results"
   ]
  },
  {
   "cell_type": "code",
   "execution_count": null,
   "id": "bfc190ae",
   "metadata": {},
   "outputs": [],
   "source": [
    "def ranks_encoded(col):\n",
    "    return len(col)"
   ]
  },
  {
   "cell_type": "code",
   "execution_count": null,
   "id": "29344c8b",
   "metadata": {},
   "outputs": [],
   "source": [
    "def ranks_encoded(col):\n",
    "    if (len(col) < 3): # No rankings\n",
    "        return 10000\n",
    "    elif (len(col) < 5): # Just 1 ranking\n",
    "        ranks = col.split(\"[\")\n",
    "        ranks = ranks[1].split(\"]\")\n",
    "        return int(ranks[0])\n",
    "    elif (len(col) < ):\n",
    "    else: return 0\n",
    "    #ranks = col.str.split(\" \", expand=True)\n",
    "    #sep_ranks = ranks[8].str.split(\"]\",expand=True)\n",
    "    \n",
    "    #ranks = ranks[1].astype(int) + ranks[3].astype(int) + ranks[4].astype(int) +  ranks[6].astype(int) + sep_ranks[0].astype(int)"
   ]
  },
  {
   "cell_type": "code",
   "execution_count": null,
   "id": "078f2d49",
   "metadata": {},
   "outputs": [],
   "source": [
    "Encoded_data[\"last_ranks_encoded\"] = Encoded_data[\"last_ranks\"].apply(ranks_encoded)"
   ]
  },
  {
   "cell_type": "code",
   "execution_count": null,
   "id": "630f1281",
   "metadata": {},
   "outputs": [],
   "source": [
    "# Encoding the categorical columns\n",
    "for col in [\"team\", \"Away_team\", \"result\"]:\n",
    "    Encoded_data[col] = Encoded_data[col].astype(\"category\")\n",
    "    Encoded_data[f\"{col}_encoded\"] = Encoded_data[col].cat.codes\n",
    "    Encoded_data = Encoded_data.drop(col, axis=1)\n",
    "    \n",
    "Encoded_data[\"last_results_encoded\"] = Encoded_data['last_results'].apply(results_encoded)\n"
   ]
  },
  {
   "cell_type": "markdown",
   "id": "9d65c925",
   "metadata": {},
   "source": [
    "1. For result: 1 = Lose, 2=Tie, 3=Win.\n",
    "2. All teams are encoded\n",
    "3. Last results encoded: +1 for win, -1 for lose, 0 for tie."
   ]
  },
  {
   "cell_type": "code",
   "execution_count": null,
   "id": "ef746b2c",
   "metadata": {},
   "outputs": [],
   "source": [
    "# Changing columns order\n",
    "column_names = ['season','division','matchday','team_encoded','Away_team_encoded','W','L','T','result_encoded','GD','GD_cum','rank','last_results_encoded','last_ranks']\n",
    "Encoded_data = Encoded_data.reindex(columns = column_names)"
   ]
  },
  {
   "cell_type": "code",
   "execution_count": null,
   "id": "e380ce87",
   "metadata": {},
   "outputs": [],
   "source": [
    "ranks = Encoded_data['last_ranks'].loc[(Encoded_data['team_encoded']==110) & (Encoded_data['season']==1950)]\n",
    "ranks = ranks.str.split(\" \", expand=True)\n",
    "sep_ranks = ranks[8].str.split(\"]\",expand=True)\n",
    "#ranks = [int(x) for x in ranks.split()]\n",
    "ranks = ranks[1].astype(int) + ranks[3].astype(int) + ranks[4].astype(int) +  ranks[6].astype(int) + sep_ranks[0].astype(int)\n",
    "ranks"
   ]
  },
  {
   "cell_type": "code",
   "execution_count": null,
   "id": "fdf95a06",
   "metadata": {},
   "outputs": [],
   "source": [
    "Encoded_data.loc[(Encoded_data['season']==1955)]"
   ]
  },
  {
   "cell_type": "code",
   "execution_count": null,
   "id": "ae6d2c8b",
   "metadata": {},
   "outputs": [],
   "source": [
    "provisional_data = Encoded_data.drop([\"last_ranks\",\"last_ranks_encoded\"], axis = 1)\n",
    "provisional_data"
   ]
  }
 ],
 "metadata": {
  "kernelspec": {
   "display_name": "Python 3",
   "language": "python",
   "name": "python3"
  },
  "language_info": {
   "codemirror_mode": {
    "name": "ipython",
    "version": 3
   },
   "file_extension": ".py",
   "mimetype": "text/x-python",
   "name": "python",
   "nbconvert_exporter": "python",
   "pygments_lexer": "ipython3",
   "version": "3.6.12"
  }
 },
 "nbformat": 4,
 "nbformat_minor": 5
}
