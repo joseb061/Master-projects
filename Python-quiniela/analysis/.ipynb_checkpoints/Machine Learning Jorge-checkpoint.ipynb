{
 "cells": [
  {
   "cell_type": "code",
   "execution_count": 1,
   "id": "b1f9646c",
   "metadata": {},
   "outputs": [],
   "source": [
    "import pandas as pd \n",
    "import numpy as np\n",
    "from time import time\n",
    "import seaborn as sns"
   ]
  },
  {
   "cell_type": "code",
   "execution_count": 2,
   "id": "7ef3aaea",
   "metadata": {},
   "outputs": [],
   "source": [
    "import scikitplot as skplt\n",
    "\n",
    "from sklearn.model_selection import train_test_split\n",
    "from sklearn.metrics import r2_score, mean_squared_error\n",
    "from sklearn import preprocessing\n",
    "\n",
    "from sklearn.neighbors import KNeighborsClassifier\n",
    "from sklearn.svm import SVC\n",
    "from sklearn.tree import DecisionTreeClassifier\n",
    "from sklearn.ensemble import RandomForestClassifier, AdaBoostClassifier\n",
    "from sklearn.naive_bayes import GaussianNB\n",
    "from sklearn.discriminant_analysis import QuadraticDiscriminantAnalysis\n",
    "from sklearn.linear_model import LogisticRegression\n",
    "\n",
    "from sklearn.preprocessing import StandardScaler\n",
    "from sklearn.preprocessing import MinMaxScaler\n",
    "\n",
    "import matplotlib.pyplot as plt\n",
    "from matplotlib import pyplot\n",
    "\n",
    "import sys\n",
    "import warnings\n",
    "warnings.filterwarnings(\"ignore\")"
   ]
  },
  {
   "cell_type": "markdown",
   "id": "7ced559f",
   "metadata": {},
   "source": [
    "## Dataset\n",
    "\n",
    "In this section we import our dataset (already processed and encoded) and check for correlated variables"
   ]
  },
  {
   "cell_type": "markdown",
   "id": "4b1e9f88",
   "metadata": {},
   "source": [
    "The features we are interested in have to be as independent as possible from each other. Therefore, we are going to\n",
    "make sure that we don't have any correlated columns with a value higher than .95"
   ]
  },
  {
   "cell_type": "code",
   "execution_count": 38,
   "id": "78fc62b7",
   "metadata": {},
   "outputs": [],
   "source": [
    "dataset = pd.read_csv(r'..\\reports\\Prueba.csv', index_col = 0)\n",
    "dataset['GD'] = abs(dataset['home_GD_lm'] - dataset['away_GD_lm'])\n",
    "dataset = dataset.drop(['home_GD_lm','away_GD_lm'], axis=1)"
   ]
  },
  {
   "cell_type": "code",
   "execution_count": 39,
   "id": "d8e81d36",
   "metadata": {},
   "outputs": [],
   "source": [
    "for col in [\"season\", \"home_team\", \"away_team\", \"result\"]:\n",
    "    dataset[col] = dataset[col].astype(\"category\")\n",
    "    dataset[f\"{col}_encoded\"] = dataset[col].cat.codes"
   ]
  },
  {
   "cell_type": "code",
   "execution_count": 40,
   "id": "fbe2ef43",
   "metadata": {},
   "outputs": [
    {
     "data": {
      "text/html": [
       "<div>\n",
       "<style scoped>\n",
       "    .dataframe tbody tr th:only-of-type {\n",
       "        vertical-align: middle;\n",
       "    }\n",
       "\n",
       "    .dataframe tbody tr th {\n",
       "        vertical-align: top;\n",
       "    }\n",
       "\n",
       "    .dataframe thead th {\n",
       "        text-align: right;\n",
       "    }\n",
       "</style>\n",
       "<table border=\"1\" class=\"dataframe\">\n",
       "  <thead>\n",
       "    <tr style=\"text-align: right;\">\n",
       "      <th></th>\n",
       "      <th>season</th>\n",
       "      <th>division</th>\n",
       "      <th>matchday</th>\n",
       "      <th>home_team</th>\n",
       "      <th>away_team</th>\n",
       "      <th>result</th>\n",
       "      <th>GD</th>\n",
       "      <th>season_encoded</th>\n",
       "      <th>home_team_encoded</th>\n",
       "      <th>away_team_encoded</th>\n",
       "      <th>result_encoded</th>\n",
       "    </tr>\n",
       "  </thead>\n",
       "  <tbody>\n",
       "    <tr>\n",
       "      <th>1</th>\n",
       "      <td>1928</td>\n",
       "      <td>1</td>\n",
       "      <td>1</td>\n",
       "      <td>Espanyol</td>\n",
       "      <td>Real Unión</td>\n",
       "      <td>1</td>\n",
       "      <td>2</td>\n",
       "      <td>0</td>\n",
       "      <td>68</td>\n",
       "      <td>116</td>\n",
       "      <td>0</td>\n",
       "    </tr>\n",
       "    <tr>\n",
       "      <th>11</th>\n",
       "      <td>1928</td>\n",
       "      <td>1</td>\n",
       "      <td>3</td>\n",
       "      <td>Espanyol</td>\n",
       "      <td>Catalunya</td>\n",
       "      <td>1</td>\n",
       "      <td>4</td>\n",
       "      <td>0</td>\n",
       "      <td>68</td>\n",
       "      <td>56</td>\n",
       "      <td>0</td>\n",
       "    </tr>\n",
       "    <tr>\n",
       "      <th>17</th>\n",
       "      <td>1928</td>\n",
       "      <td>1</td>\n",
       "      <td>4</td>\n",
       "      <td>Espanyol</td>\n",
       "      <td>Racing</td>\n",
       "      <td>1</td>\n",
       "      <td>6</td>\n",
       "      <td>0</td>\n",
       "      <td>68</td>\n",
       "      <td>103</td>\n",
       "      <td>0</td>\n",
       "    </tr>\n",
       "    <tr>\n",
       "      <th>25</th>\n",
       "      <td>1928</td>\n",
       "      <td>1</td>\n",
       "      <td>6</td>\n",
       "      <td>Espanyol</td>\n",
       "      <td>Real Madrid</td>\n",
       "      <td>1</td>\n",
       "      <td>8</td>\n",
       "      <td>0</td>\n",
       "      <td>68</td>\n",
       "      <td>110</td>\n",
       "      <td>0</td>\n",
       "    </tr>\n",
       "    <tr>\n",
       "      <th>31</th>\n",
       "      <td>1928</td>\n",
       "      <td>1</td>\n",
       "      <td>7</td>\n",
       "      <td>Espanyol</td>\n",
       "      <td>Arenas Club</td>\n",
       "      <td>2</td>\n",
       "      <td>2</td>\n",
       "      <td>0</td>\n",
       "      <td>68</td>\n",
       "      <td>7</td>\n",
       "      <td>1</td>\n",
       "    </tr>\n",
       "    <tr>\n",
       "      <th>...</th>\n",
       "      <td>...</td>\n",
       "      <td>...</td>\n",
       "      <td>...</td>\n",
       "      <td>...</td>\n",
       "      <td>...</td>\n",
       "      <td>...</td>\n",
       "      <td>...</td>\n",
       "      <td>...</td>\n",
       "      <td>...</td>\n",
       "      <td>...</td>\n",
       "      <td>...</td>\n",
       "    </tr>\n",
       "    <tr>\n",
       "      <th>48104</th>\n",
       "      <td>2020</td>\n",
       "      <td>2</td>\n",
       "      <td>36</td>\n",
       "      <td>Espanyol</td>\n",
       "      <td>UD Las Palmas</td>\n",
       "      <td>1</td>\n",
       "      <td>8</td>\n",
       "      <td>89</td>\n",
       "      <td>68</td>\n",
       "      <td>139</td>\n",
       "      <td>0</td>\n",
       "    </tr>\n",
       "    <tr>\n",
       "      <th>48117</th>\n",
       "      <td>2020</td>\n",
       "      <td>2</td>\n",
       "      <td>37</td>\n",
       "      <td>Espanyol</td>\n",
       "      <td>Málaga CF</td>\n",
       "      <td>1</td>\n",
       "      <td>6</td>\n",
       "      <td>89</td>\n",
       "      <td>68</td>\n",
       "      <td>90</td>\n",
       "      <td>0</td>\n",
       "    </tr>\n",
       "    <tr>\n",
       "      <th>48134</th>\n",
       "      <td>2020</td>\n",
       "      <td>2</td>\n",
       "      <td>39</td>\n",
       "      <td>Espanyol</td>\n",
       "      <td>FC Cartagena</td>\n",
       "      <td>2</td>\n",
       "      <td>4</td>\n",
       "      <td>89</td>\n",
       "      <td>68</td>\n",
       "      <td>70</td>\n",
       "      <td>1</td>\n",
       "    </tr>\n",
       "    <tr>\n",
       "      <th>48156</th>\n",
       "      <td>2020</td>\n",
       "      <td>2</td>\n",
       "      <td>41</td>\n",
       "      <td>Espanyol</td>\n",
       "      <td>CD Tenerife</td>\n",
       "      <td>X</td>\n",
       "      <td>0</td>\n",
       "      <td>89</td>\n",
       "      <td>68</td>\n",
       "      <td>41</td>\n",
       "      <td>2</td>\n",
       "    </tr>\n",
       "    <tr>\n",
       "      <th>48191</th>\n",
       "      <td>2021</td>\n",
       "      <td>1</td>\n",
       "      <td>2</td>\n",
       "      <td>Espanyol</td>\n",
       "      <td>Villarreal</td>\n",
       "      <td>X</td>\n",
       "      <td>0</td>\n",
       "      <td>90</td>\n",
       "      <td>68</td>\n",
       "      <td>148</td>\n",
       "      <td>2</td>\n",
       "    </tr>\n",
       "  </tbody>\n",
       "</table>\n",
       "<p>1460 rows × 11 columns</p>\n",
       "</div>"
      ],
      "text/plain": [
       "      season  division  matchday home_team      away_team result  GD  \\\n",
       "1       1928         1         1  Espanyol     Real Unión      1   2   \n",
       "11      1928         1         3  Espanyol      Catalunya      1   4   \n",
       "17      1928         1         4  Espanyol         Racing      1   6   \n",
       "25      1928         1         6  Espanyol    Real Madrid      1   8   \n",
       "31      1928         1         7  Espanyol    Arenas Club      2   2   \n",
       "...      ...       ...       ...       ...            ...    ...  ..   \n",
       "48104   2020         2        36  Espanyol  UD Las Palmas      1   8   \n",
       "48117   2020         2        37  Espanyol      Málaga CF      1   6   \n",
       "48134   2020         2        39  Espanyol   FC Cartagena      2   4   \n",
       "48156   2020         2        41  Espanyol    CD Tenerife      X   0   \n",
       "48191   2021         1         2  Espanyol     Villarreal      X   0   \n",
       "\n",
       "       season_encoded  home_team_encoded  away_team_encoded  result_encoded  \n",
       "1                   0                 68                116               0  \n",
       "11                  0                 68                 56               0  \n",
       "17                  0                 68                103               0  \n",
       "25                  0                 68                110               0  \n",
       "31                  0                 68                  7               1  \n",
       "...               ...                ...                ...             ...  \n",
       "48104              89                 68                139               0  \n",
       "48117              89                 68                 90               0  \n",
       "48134              89                 68                 70               1  \n",
       "48156              89                 68                 41               2  \n",
       "48191              90                 68                148               2  \n",
       "\n",
       "[1460 rows x 11 columns]"
      ]
     },
     "execution_count": 40,
     "metadata": {},
     "output_type": "execute_result"
    }
   ],
   "source": [
    "dataset.loc[dataset['home_team']=='Espanyol']"
   ]
  },
  {
   "cell_type": "code",
   "execution_count": 6,
   "id": "d0f6244e",
   "metadata": {},
   "outputs": [
    {
     "name": "stdout",
     "output_type": "stream",
     "text": [
      "\n",
      "[]\n"
     ]
    }
   ],
   "source": [
    "cor_matrix = dataset.corr().abs()\n",
    "upper_tri = cor_matrix.where(np.triu(np.ones(cor_matrix.shape),k=1).astype(np.bool))\n",
    "\n",
    "to_drop = [column for column in upper_tri.columns if any(upper_tri[column] > 0.95)]\n",
    "print(); print(to_drop)  \n"
   ]
  },
  {
   "cell_type": "code",
   "execution_count": 41,
   "id": "2115dc74",
   "metadata": {
    "scrolled": true
   },
   "outputs": [
    {
     "data": {
      "text/plain": [
       "<AxesSubplot:>"
      ]
     },
     "execution_count": 41,
     "metadata": {},
     "output_type": "execute_result"
    },
    {
     "data": {
      "image/png": "[encoded data removed]",
      "text/plain": [
       "<Figure size 792x648 with 2 Axes>"
      ]
     },
     "metadata": {
      "needs_background": "light"
     },
     "output_type": "display_data"
    }
   ],
   "source": [
    "# Compute the correlation matrix\n",
    "corr = dataset.corr()\n",
    "\n",
    "# Generate a mask for the upper triangle\n",
    "mask = np.triu(np.ones_like(corr, dtype=bool))\n",
    "\n",
    "# Set up the matplotlib figure\n",
    "f, ax = plt.subplots(figsize=(11, 9))\n",
    "\n",
    "# Generate a custom diverging colormap\n",
    "cmap = sns.diverging_palette(230, 20, as_cmap=False)\n",
    "\n",
    "# Draw the heatmap with the mask and correct aspect ratio\n",
    "sns.heatmap(corr, mask=mask, cmap=cmap, vmax=.3, center=0,\n",
    "            square=True, linewidths=.5, cbar_kws={\"shrink\": .5})"
   ]
  },
  {
   "cell_type": "markdown",
   "id": "d5d4b9b1",
   "metadata": {},
   "source": [
    "### Automatic Variable Selection\n",
    "In order to have an automatic variable selection we can use a **model-based** feature selection. Consequently, we will use a supervised machine learning model to judge the importance of each feature.\n",
    "\n",
    "We will add some noise feature to our data and expect that the feature selection will identify the features that are non informative, removing the data features that are irrelevant.\n",
    "\n",
    "For that purpose, we will add as many noise features as we have and select the 50% that are more correlated. Then, we will discard the noise features. The variables selected can be shown belove: black are original features and white noise features"
   ]
  },
  {
   "cell_type": "code",
   "execution_count": 36,
   "id": "af167bf0",
   "metadata": {},
   "outputs": [
    {
     "name": "stdout",
     "output_type": "stream",
     "text": [
      "X_train.shape: (36180, 5)\n",
      "y_train.shape: (36180,)\n",
      "X_train_l1.shape: (36180, 5)\n"
     ]
    },
    {
     "data": {
      "image/png": "[encoded data removed]",
      "text/plain": [
       "<Figure size 1152x144 with 1 Axes>"
      ]
     },
     "metadata": {
      "needs_background": "light"
     },
     "output_type": "display_data"
    }
   ],
   "source": [
    "from sklearn.feature_selection import SelectFromModel\n",
    "from sklearn.ensemble import RandomForestClassifier\n",
    "\n",
    "dataset = dataset.dropna()\n",
    "target = dataset.result_encoded\n",
    "X = dataset[['division','matchday','season_encoded','home_team_encoded','away_team_encoded']]\n",
    "#target = dataset.result\n",
    "#X = dataset.loc[:, dataset.columns != 'result']\n",
    "\n",
    "# get deterministic random numbers\n",
    "rng = np.random.RandomState(42)\n",
    "noise = rng.normal(size=(len(dataset), 4))\n",
    "X_w_noise = np.hstack([X, noise])\n",
    "\n",
    "X_train,X_test,y_train,y_test = train_test_split(X_w_noise, target, test_size=0.25)\n",
    "\n",
    "select = SelectFromModel( RandomForestClassifier(n_estimators=100, random_state=42), threshold=\"median\")\n",
    "\n",
    "select.fit(X_train, y_train)\n",
    "X_train = select.transform(X_train)\n",
    "print(\"X_train.shape: {}\".format(X_train.shape))\n",
    "print(\"y_train.shape: {}\".format(y_train.shape))\n",
    "\n",
    "print(\"X_train_l1.shape: {}\".format(X_train.shape))\n",
    "\n",
    "mask = select.get_support()\n",
    "# visualize the mask -- black is True, white is False\n",
    "plt.matshow(mask.reshape(1, -1), cmap='gray_r')\n",
    "plt.xlabel(\"Sample index\")\n",
    "\n",
    "X_test = select.transform(X_test)"
   ]
  },
  {
   "cell_type": "markdown",
   "id": "9171c77b",
   "metadata": {},
   "source": [
    "## Normal selection of variables and splitting data"
   ]
  },
  {
   "cell_type": "code",
   "execution_count": 44,
   "id": "c32af2f2",
   "metadata": {},
   "outputs": [],
   "source": [
    "dataset = dataset.dropna()\n",
    "target = dataset.result_encoded\n",
    "X = dataset[['division','matchday','season_encoded','home_team_encoded','away_team_encoded','GD']]\n",
    "#X = dataset[['season','division','matchday','team','Away_team','W','GD_cum_before','rank_before']]\n",
    "X_train,X_test,y_train,y_test = train_test_split(X, target, test_size=0.2, random_state=1, stratify=target)"
   ]
  },
  {
   "cell_type": "code",
   "execution_count": 22,
   "id": "807e7c94",
   "metadata": {},
   "outputs": [],
   "source": [
    "# Prueba random\n",
    "rng = np.random.RandomState(42)\n",
    "X = rng.normal(size=(len(dataset), 6))\n",
    "target = dataset.result_encoded\n",
    "X_train,X_test,y_train,y_test = train_test_split(X, target, test_size=0.2, random_state=1, stratify=target)"
   ]
  },
  {
   "cell_type": "markdown",
   "id": "ffc27ee0",
   "metadata": {},
   "source": [
    "## Function to construct confusion matrix and ROC"
   ]
  },
  {
   "cell_type": "code",
   "execution_count": 9,
   "id": "cabc39e2",
   "metadata": {},
   "outputs": [],
   "source": [
    "#plot our results\n",
    "def confusion_matrix(trained_model, y_test, X_test):\n",
    "    Y_test_pred = trained_model.predict(X_test)\n",
    "\n",
    "    fig = plt.figure(figsize=(15,6))\n",
    "    ax1 = fig.add_subplot(121)\n",
    "    skplt.metrics.plot_confusion_matrix(y_test, Y_test_pred,\n",
    "                                        title=\"Confusion Matrix\",\n",
    "                                        cmap=\"Oranges\",\n",
    "                                        ax=ax1)\n",
    "\n",
    "    ax2 = fig.add_subplot(122)\n",
    "    skplt.metrics.plot_confusion_matrix(y_test, Y_test_pred,\n",
    "                                        normalize=True,\n",
    "                                        title=\"Confusion Matrix\",\n",
    "                                        cmap=\"Purples\",\n",
    "                                        ax=ax2)\n",
    "\n",
    "def ROC_PRC_matrix(trained_model, y_test, X_test):    \n",
    "    y_test_probs = trained_model.predict_proba(X_test)\n",
    "    \n",
    "    fig = plt.figure(figsize=(15,6))\n",
    "    ax1 = fig.add_subplot(121)\n",
    "    skplt.metrics.plot_roc_curve(y_test, y_test_probs,\n",
    "                       title=\"Digits ROC Curve\", figsize=(12,6), ax=ax1)\n",
    "    \n",
    "    ax2 = fig.add_subplot(122)\n",
    "    skplt.metrics.plot_precision_recall_curve(y_test, y_test_probs,\n",
    "                        title=\"Digits Precision-Recall Curve\", figsize=(12,6), ax= ax2)"
   ]
  },
  {
   "cell_type": "markdown",
   "id": "2bc16547",
   "metadata": {},
   "source": [
    "## Estimations of parameters in models"
   ]
  },
  {
   "cell_type": "code",
   "execution_count": 45,
   "id": "4da8eb87",
   "metadata": {},
   "outputs": [
    {
     "name": "stdout",
     "output_type": "stream",
     "text": [
      "\n",
      "SVM\n",
      "--------------------\n",
      "Accuracy on training set:  0.7836339137645107\n",
      "Accuracy on test set:  0.7835820895522388\n"
     ]
    },
    {
     "data": {
      "image/png": "[encoded data removed]",
      "text/plain": [
       "<Figure size 1080x432 with 4 Axes>"
      ]
     },
     "metadata": {
      "needs_background": "light"
     },
     "output_type": "display_data"
    }
   ],
   "source": [
    "from sklearn.svm import LinearSVC\n",
    "from sklearn.multiclass import OneVsRestClassifier\n",
    "\n",
    "linear_svm = OneVsRestClassifier(LinearSVC()).fit(X_train, y_train)\n",
    "print() \n",
    "print(\"SVM\") \n",
    "print(\"-\" * 20)\n",
    "print(\"Accuracy on training set: \",linear_svm.score(X_train, y_train))\n",
    "print(\"Accuracy on test set: \",linear_svm.score(X_test, y_test))\n",
    "#ROC_PRC_matrix(linear_svm, y_test, X_test)\n",
    "confusion_matrix(linear_svm, y_test, X_test)"
   ]
  },
  {
   "cell_type": "code",
   "execution_count": 39,
   "id": "e1c22db6",
   "metadata": {},
   "outputs": [
    {
     "name": "stdout",
     "output_type": "stream",
     "text": [
      "\n",
      "Logistic Regression with parameter  0.001\n",
      "--------------------\n",
      "Accuracy on training set:  0.527285447761194 \tR2 training set:  -0.7482987197355464\n",
      "Accuracy on test set:  0.5298507462686567 \tR2 test set:  -0.7412019491066593\n",
      "\n",
      "Logistic Regression with parameter  0.01\n",
      "--------------------\n",
      "Accuracy on training set:  0.527285447761194 \tR2 training set:  -0.7482987197355464\n",
      "Accuracy on test set:  0.5298507462686567 \tR2 test set:  -0.7412019491066593\n",
      "\n",
      "Logistic Regression with parameter  0.1\n",
      "--------------------\n",
      "Accuracy on training set:  0.527285447761194 \tR2 training set:  -0.7482987197355464\n",
      "Accuracy on test set:  0.5298507462686567 \tR2 test set:  -0.7412019491066593\n",
      "\n",
      "Logistic Regression with parameter  1\n",
      "--------------------\n",
      "Accuracy on training set:  0.527285447761194 \tR2 training set:  -0.7482987197355464\n",
      "Accuracy on test set:  0.5298507462686567 \tR2 test set:  -0.7412019491066593\n",
      "\n",
      "Logistic Regression with parameter  10\n",
      "--------------------\n",
      "Accuracy on training set:  0.527285447761194 \tR2 training set:  -0.7482987197355464\n",
      "Accuracy on test set:  0.5298507462686567 \tR2 test set:  -0.7412019491066593\n",
      "\n",
      "Logistic Regression with parameter  100\n",
      "--------------------\n",
      "Accuracy on training set:  0.527285447761194 \tR2 training set:  -0.7482987197355464\n",
      "Accuracy on test set:  0.5298507462686567 \tR2 test set:  -0.7412019491066593\n"
     ]
    }
   ],
   "source": [
    "# Looking for best parameter for logistic regression model\n",
    "for C in [0.001, 0.01, 0.1, 1, 10, 100]:\n",
    "    logreg = LogisticRegression(C=C).fit(X_train, y_train)\n",
    "    prediction_in = logreg.predict(X_train)\n",
    "    accuracy_r2_in = r2_score(y_train, prediction_in)\n",
    "    prediction_out = logreg.predict(X_test)\n",
    "    accuracy_r2_out = r2_score(y_test, prediction_out)\n",
    "    print() \n",
    "    print(\"Logistic Regression with parameter \", C) \n",
    "    print(\"-\" * 20)\n",
    "    print(\"Accuracy on training set: \",logreg.score(X_train, y_train), \"\\tR2 training set: \", accuracy_r2_in )\n",
    "    print(\"Accuracy on test set: \",logreg.score(X_test, y_test), \"\\tR2 test set: \", accuracy_r2_out )\n"
   ]
  },
  {
   "cell_type": "code",
   "execution_count": 31,
   "id": "d8894a01",
   "metadata": {},
   "outputs": [
    {
     "name": "stdout",
     "output_type": "stream",
     "text": [
      "\n",
      "Decision tree with depth  3\n",
      "--------------------\n",
      "Accuracy on training set:  0.527285447761194 \tR2 training set:  -0.7482987197355464\n",
      "Accuracy on test set:  0.5298507462686567 \tR2 test set:  -0.7412019491066593\n",
      "\n",
      "Decision tree with depth  4\n",
      "--------------------\n",
      "Accuracy on training set:  0.5299803067993366 \tR2 training set:  -0.7073791484896221\n",
      "Accuracy on test set:  0.5280887230514096 \tR2 test set:  -0.7081531844725697\n",
      "\n",
      "Decision tree with depth  5\n",
      "--------------------\n",
      "Accuracy on training set:  0.5309131426202321 \tR2 training set:  -0.7291712841130091\n",
      "Accuracy on test set:  0.5296434494195689 \tR2 test set:  -0.7292108044164145\n",
      "\n",
      "Decision tree with depth  6\n",
      "--------------------\n",
      "Accuracy on training set:  0.533271144278607 \tR2 training set:  -0.7093137936957186\n",
      "Accuracy on test set:  0.5303689883913765 \tR2 test set:  -0.7167809593106726\n",
      "\n",
      "Decision tree with depth  7\n",
      "--------------------\n",
      "Accuracy on training set:  0.5360955638474295 \tR2 training set:  -0.6926320416356049\n",
      "Accuracy on test set:  0.5303689883913765 \tR2 test set:  -0.7071295501697439\n"
     ]
    }
   ],
   "source": [
    "# Preprunning for decision tree model, avoiding overfitting\n",
    "for depth in range(3,8):\n",
    "    tree = DecisionTreeClassifier(max_depth=depth).fit(X_train, y_train)\n",
    "    prediction_in = tree.predict(X_train)\n",
    "    accuracy_r2_in = r2_score(y_train, prediction_in)\n",
    "    prediction_out = tree.predict(X_test)\n",
    "    accuracy_r2_out = r2_score(y_test, prediction_out)\n",
    "    print() \n",
    "    print(\"Decision tree with depth \", depth) \n",
    "    print(\"-\" * 20)\n",
    "    print(\"Accuracy on training set: \",tree.score(X_train, y_train), \"\\tR2 training set: \", accuracy_r2_in )\n",
    "    print(\"Accuracy on test set: \",tree.score(X_test, y_test), \"\\tR2 test set: \", accuracy_r2_out )\n"
   ]
  },
  {
   "cell_type": "code",
   "execution_count": 32,
   "id": "79fd8cc8",
   "metadata": {},
   "outputs": [
    {
     "name": "stdout",
     "output_type": "stream",
     "text": [
      "\n",
      "Random_forest with 5 trees and 2 depth\n",
      "----------------------------------------\n",
      "Accuracy on training set:  0.527285447761194 \tR2 training set:  -0.7482987197355464\n",
      "Accuracy on test set:  0.5298507462686567 \tR2 test set:  -0.7412019491066593\n",
      "\n",
      "Random_forest with 5 trees and 3 depth\n",
      "----------------------------------------\n",
      "Accuracy on training set:  0.527285447761194 \tR2 training set:  -0.7482987197355464\n",
      "Accuracy on test set:  0.5298507462686567 \tR2 test set:  -0.7412019491066593\n",
      "\n",
      "Random_forest with 5 trees and 4 depth\n",
      "----------------------------------------\n",
      "Accuracy on training set:  0.531224087893864 \tR2 training set:  -0.7284047265785181\n",
      "Accuracy on test set:  0.533271144278607 \tR2 test set:  -0.7197056287473178\n",
      "\n",
      "Random_forest with 5 trees and 5 depth\n",
      "----------------------------------------\n",
      "Accuracy on training set:  0.5308872305140961 \tR2 training set:  -0.7357782800055268\n",
      "Accuracy on test set:  0.5322346600331676 \tR2 test set:  -0.7290645709445822\n",
      "\n",
      "Random_forest with 6 trees and 2 depth\n",
      "----------------------------------------\n",
      "Accuracy on training set:  0.527285447761194 \tR2 training set:  -0.7482987197355464\n",
      "Accuracy on test set:  0.5298507462686567 \tR2 test set:  -0.7412019491066593\n",
      "\n",
      "Random_forest with 6 trees and 3 depth\n",
      "----------------------------------------\n",
      "Accuracy on training set:  0.5301098673300166 \tR2 training set:  -0.7388445101434908\n",
      "Accuracy on test set:  0.5318200663349917 \tR2 test set:  -0.7340365089868788\n",
      "\n",
      "Random_forest with 6 trees and 4 depth\n",
      "----------------------------------------\n",
      "Accuracy on training set:  0.5307835820895522 \tR2 training set:  -0.7340626512378565\n",
      "Accuracy on test set:  0.5321310116086235 \tR2 test set:  -0.7265786019234337\n",
      "\n",
      "Random_forest with 6 trees and 5 depth\n",
      "----------------------------------------\n",
      "Accuracy on training set:  0.5321828358208955 \tR2 training set:  -0.7260685512353076\n",
      "Accuracy on test set:  0.5335820895522388 \tR2 test set:  -0.7201443291628147\n",
      "\n",
      "Random_forest with 7 trees and 2 depth\n",
      "----------------------------------------\n",
      "Accuracy on training set:  0.527285447761194 \tR2 training set:  -0.7482987197355464\n",
      "Accuracy on test set:  0.5298507462686567 \tR2 test set:  -0.7412019491066593\n",
      "\n",
      "Random_forest with 7 trees and 3 depth\n",
      "----------------------------------------\n",
      "Accuracy on training set:  0.5301357794361525 \tR2 training set:  -0.7385889909653272\n",
      "Accuracy on test set:  0.5318200663349917 \tR2 test set:  -0.7335978085713821\n",
      "\n",
      "Random_forest with 7 trees and 4 depth\n",
      "----------------------------------------\n",
      "Accuracy on training set:  0.5296952736318408 \tR2 training set:  -0.7396475704177194\n",
      "Accuracy on test set:  0.5314054726368159 \tR2 test set:  -0.7354988437052015\n",
      "\n",
      "Random_forest with 7 trees and 5 depth\n",
      "----------------------------------------\n",
      "Accuracy on training set:  0.5325715174129353 \tR2 training set:  -0.7204836320554444\n",
      "Accuracy on test set:  0.5342039800995025 \tR2 test set:  -0.7157573250078471\n",
      "\n",
      "Random_forest with 8 trees and 2 depth\n",
      "----------------------------------------\n",
      "Accuracy on training set:  0.527285447761194 \tR2 training set:  -0.7482987197355464\n",
      "Accuracy on test set:  0.5298507462686567 \tR2 test set:  -0.7412019491066593\n",
      "\n",
      "Random_forest with 8 trees and 3 depth\n",
      "----------------------------------------\n",
      "Accuracy on training set:  0.527285447761194 \tR2 training set:  -0.7482987197355464\n",
      "Accuracy on test set:  0.5298507462686567 \tR2 test set:  -0.7412019491066593\n",
      "\n",
      "Random_forest with 8 trees and 4 depth\n",
      "----------------------------------------\n",
      "Accuracy on training set:  0.5308613184079602 \tR2 training set:  -0.7327485526073005\n",
      "Accuracy on test set:  0.5318200663349917 \tR2 test set:  -0.7296495048319112\n",
      "\n",
      "Random_forest with 8 trees and 5 depth\n",
      "----------------------------------------\n",
      "Accuracy on training set:  0.5328047263681592 \tR2 training set:  -0.7227833046589174\n",
      "Accuracy on test set:  0.5348258706467661 \tR2 test set:  -0.7144412237613567\n",
      "\n",
      "Random_forest with 9 trees and 2 depth\n",
      "----------------------------------------\n",
      "Accuracy on training set:  0.527285447761194 \tR2 training set:  -0.7482987197355464\n",
      "Accuracy on test set:  0.5298507462686567 \tR2 test set:  -0.7412019491066593\n",
      "\n",
      "Random_forest with 9 trees and 3 depth\n",
      "----------------------------------------\n",
      "Accuracy on training set:  0.527285447761194 \tR2 training set:  -0.7482987197355464\n",
      "Accuracy on test set:  0.5298507462686567 \tR2 test set:  -0.7412019491066593\n",
      "\n",
      "Random_forest with 9 trees and 4 depth\n",
      "----------------------------------------\n",
      "Accuracy on training set:  0.5305244610281924 \tR2 training set:  -0.7369463676771322\n",
      "Accuracy on test set:  0.5321310116086235 \tR2 test set:  -0.7314043064938982\n",
      "\n",
      "Random_forest with 9 trees and 5 depth\n",
      "----------------------------------------\n",
      "Accuracy on training set:  0.5319237147595357 \tR2 training set:  -0.7321280060317601\n",
      "Accuracy on test set:  0.533167495854063 \tR2 test set:  -0.7255549676206081\n"
     ]
    }
   ],
   "source": [
    "# Random forest model\n",
    "\n",
    "# We set max_depth = 5 as preprunning parameter\n",
    "# We set max_features as sqrt of n_features to reduce overfitting (pag 102)\n",
    "\n",
    "for trees in range(5,10):\n",
    "    for depth in range(2,6):\n",
    "        random_forest = RandomForestClassifier(max_depth=depth, n_estimators=trees, max_features=3).fit(X_train, y_train)\n",
    "        prediction_in = random_forest.predict(X_train)\n",
    "        accuracy_r2_in = r2_score(y_train, prediction_in)\n",
    "        prediction_out = random_forest.predict(X_test)\n",
    "        accuracy_r2_out = r2_score(y_test, prediction_out)\n",
    "        print() \n",
    "        print(f\"Random_forest with {trees} trees and {depth} depth\") \n",
    "        print(\"-\" * 40)\n",
    "        print(\"Accuracy on training set: \",random_forest.score(X_train, y_train), \"\\tR2 training set: \", accuracy_r2_in )\n",
    "        print(\"Accuracy on test set: \",random_forest.score(X_test, y_test), \"\\tR2 test set: \", accuracy_r2_out )\n"
   ]
  },
  {
   "cell_type": "code",
   "execution_count": 37,
   "id": "5533fbc5",
   "metadata": {},
   "outputs": [
    {
     "name": "stdout",
     "output_type": "stream",
     "text": [
      "\n",
      "Logistic Regression\n",
      "--------------------\n",
      "Accuracy on training set:  0.5278036898839138\n",
      "Accuracy on test set:  0.5277777777777778\n",
      "\n",
      "Decision Tree\n",
      "--------------------\n",
      "Accuracy on training set:  0.5278036898839138\n",
      "Accuracy on test set:  0.5277777777777778\n",
      "\n",
      "Random Forest\n",
      "--------------------\n",
      "Accuracy on training set:  0.5283737562189055\n",
      "Accuracy on test set:  0.5279850746268657\n"
     ]
    },
    {
     "data": {
      "image/png": "[encoded data removed]",
      "text/plain": [
       "<Figure size 1080x432 with 4 Axes>"
      ]
     },
     "metadata": {
      "needs_background": "light"
     },
     "output_type": "display_data"
    },
    {
     "data": {
      "image/png": "[encoded data removed]",
      "text/plain": [
       "<Figure size 1080x432 with 4 Axes>"
      ]
     },
     "metadata": {
      "needs_background": "light"
     },
     "output_type": "display_data"
    },
    {
     "data": {
      "image/png": "[encoded data removed]",
      "text/plain": [
       "<Figure size 1080x432 with 4 Axes>"
      ]
     },
     "metadata": {
      "needs_background": "light"
     },
     "output_type": "display_data"
    }
   ],
   "source": [
    "names = [\"Logistic Regression\", \"Decision Tree\", \"Random Forest\"]\n",
    "from sklearn.multiclass import OneVsRestClassifier\n",
    "from sklearn.multiclass import OneVsOneClassifier\n",
    "\n",
    "classifiers = [\n",
    "    #KNeighborsClassifier(3),\n",
    "    LogisticRegression(solver='sag', multi_class='auto', max_iter=1000),\n",
    "    DecisionTreeClassifier(max_depth=1),\n",
    "    RandomForestClassifier(max_depth=5, n_estimators=10, max_features=1),\n",
    "]\n",
    "\n",
    "\n",
    "for name, clf in zip(names, classifiers):\n",
    "        model = OneVsOneClassifier(clf).fit(X_train, y_train)\n",
    "        print() \n",
    "        print(name) \n",
    "        print(\"-\" * 20)\n",
    "        print(\"Accuracy on training set: \",model.score(X_train, y_train))\n",
    "        print(\"Accuracy on test set: \",model.score(X_test, y_test))\n",
    "        #ROC_PRC_matrix(model, y_test, X_test)\n",
    "        confusion_matrix(model, y_test, X_test)\n"
   ]
  },
  {
   "cell_type": "code",
   "execution_count": null,
   "id": "8afc9d7e",
   "metadata": {},
   "outputs": [],
   "source": []
  }
 ],
 "metadata": {
  "kernelspec": {
   "display_name": "Python 3 (ipykernel)",
   "language": "python",
   "name": "python3"
  },
  "language_info": {
   "codemirror_mode": {
    "name": "ipython",
    "version": 3
   },
   "file_extension": ".py",
   "mimetype": "text/x-python",
   "name": "python",
   "nbconvert_exporter": "python",
   "pygments_lexer": "ipython3",
   "version": "3.9.2"
  }
 },
 "nbformat": 4,
 "nbformat_minor": 5
}
