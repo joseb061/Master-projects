{
 "cells": [
  {
   "cell_type": "code",
   "execution_count": 1,
   "id": "b1f9646c",
   "metadata": {},
   "outputs": [],
   "source": [
    "import pandas as pd \n",
    "import numpy as np"
   ]
  },
  {
   "cell_type": "code",
   "execution_count": 9,
   "id": "7ef3aaea",
   "metadata": {},
   "outputs": [],
   "source": [
    "from sklearn.model_selection import train_test_split\n",
    "from sklearn.linear_model import LinearRegression\n",
    "from sklearn.linear_model import LogisticRegression\n",
    "from sklearn.ensemble import GradientBoostingRegressor\n",
    "from sklearn.metrics import r2_score, mean_squared_error"
   ]
  },
  {
   "cell_type": "code",
   "execution_count": 13,
   "id": "3f75bf6e",
   "metadata": {},
   "outputs": [],
   "source": [
    "dataset = pd.read_csv(r\"../reports/Provisional_data.csv\", index_col = 0)"
   ]
  },
  {
   "cell_type": "code",
   "execution_count": 14,
   "id": "dd27564d",
   "metadata": {},
   "outputs": [],
   "source": [
    "df = dataset.copy()"
   ]
  },
  {
   "cell_type": "code",
   "execution_count": 34,
   "id": "c7c1160d",
   "metadata": {},
   "outputs": [],
   "source": [
    "features = df.loc[:, df.columns != 'result_encoded']\n",
    "target = df.loc[:,df.columns == 'result_encoded']\n",
    "X_train, X_test, y_train, y_test = train_test_split"
   ]
  },
  {
   "cell_type": "code",
   "execution_count": null,
   "id": "37874b0b",
   "metadata": {},
   "outputs": [],
   "source": []
  }
 ],
 "metadata": {
  "kernelspec": {
   "display_name": "Python 3",
   "language": "python",
   "name": "python3"
  },
  "language_info": {
   "codemirror_mode": {
    "name": "ipython",
    "version": 3
   },
   "file_extension": ".py",
   "mimetype": "text/x-python",
   "name": "python",
   "nbconvert_exporter": "python",
   "pygments_lexer": "ipython3",
   "version": "3.6.12"
  }
 },
 "nbformat": 4,
 "nbformat_minor": 5
}
