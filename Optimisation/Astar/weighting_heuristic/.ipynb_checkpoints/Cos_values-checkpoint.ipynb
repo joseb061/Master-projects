{
 "cells": [
  {
   "cell_type": "code",
   "execution_count": 1,
   "id": "0e498727",
   "metadata": {},
   "outputs": [],
   "source": [
    "from math import cos, pi\n",
    "\n",
    "def main(f, PRECISION, NAME):\n",
    "    f.write(\"double %s[] = {\\n\" % NAME)\n",
    "    j = 0\n",
    "    p = 0.0\n",
    "    while True:\n",
    "        f.write(\"{:.20f}, \".format(cos(p)))\n",
    "        j += 1\n",
    "        p += PRECISION\n",
    "        if p > 2*pi:\n",
    "            break\n",
    "    f.write(\"1.0 };\\n\")\n",
    "    f.write(\"const int %s_size = %d;\\n\" % (NAME, j+1))\n",
    "\n",
    "\n",
    "\n",
    "main(open(\"costable_0_0001.h\", \"w\"), 0.0001, \"costable_0_0001\")"
   ]
  },
  {
   "cell_type": "code",
   "execution_count": null,
   "id": "cfad0d35",
   "metadata": {},
   "outputs": [],
   "source": []
  }
 ],
 "metadata": {
  "kernelspec": {
   "display_name": "Python 3 (ipykernel)",
   "language": "python",
   "name": "python3"
  },
  "language_info": {
   "codemirror_mode": {
    "name": "ipython",
    "version": 3
   },
   "file_extension": ".py",
   "mimetype": "text/x-python",
   "name": "python",
   "nbconvert_exporter": "python",
   "pygments_lexer": "ipython3",
   "version": "3.9.2"
  }
 },
 "nbformat": 4,
 "nbformat_minor": 5
}
